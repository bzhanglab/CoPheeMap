{
 "cells": [
  {
   "cell_type": "code",
   "execution_count": null,
   "id": "80c8e68a",
   "metadata": {},
   "outputs": [],
   "source": [
    "try:\n",
    "    import google.colab\n",
    "    IN_COLAB = True\n",
    "except ImportError:\n",
    "    IN_COLAB = False\n",
    "\n",
    "if IN_COLAB:\n",
    "    %pip uninstall -y plotnine\n",
    "    !git clone https://github.com/bzhanglab/CoPheeMap.git\n",
    "    %cd CoPheeMap\n",
    "    %pip install -q -r requirements.txt"
   ]
  },
  {
   "cell_type": "code",
   "execution_count": 3,
   "id": "120b040d",
   "metadata": {},
   "outputs": [],
   "source": [
    "import pandas as pd\n",
    "import re\n",
    "import numpy as np\n",
    "import random\n",
    "import matplotlib.pyplot as plt\n",
    "import seaborn as sns\n",
    "import scipy.stats as sts\n",
    "import math\n",
    "import xlrd\n",
    "from collections import Counter\n",
    "import os"
   ]
  },
  {
   "cell_type": "code",
   "execution_count": 4,
   "id": "5ded0c3b",
   "metadata": {},
   "outputs": [],
   "source": [
    "kinases_id=pd.read_excel('KSA/kinase_table.xlsx')\n",
    "kinases_id.index=kinases_id.Name\n",
    "K_S_GPS=pd.read_csv('KSA/KSA_gold_standard.csv',index_col=0)"
   ]
  },
  {
   "cell_type": "code",
   "execution_count": 5,
   "id": "3ad337ef",
   "metadata": {},
   "outputs": [],
   "source": [
    "#Generate PSSM matrix from gold standard KSAs \n",
    "#Warning: Long running time\n",
    "ks=list(set(K_S_GPS['Gene name']))\n",
    "for k in ks:\n",
    "    df=pd.DataFrame()\n",
    "    tmp=K_S_GPS[K_S_GPS['Gene name']==k]\n",
    "    seqs=tmp.seq_15.to_list()\n",
    "    seqs=list(set(seqs))\n",
    "    if len(seqs) >= 5:\n",
    "        aa_lib = [\"A\",\"C\",\"D\",\"E\",\"F\",\"G\",\"H\",\"I\",\"K\",\"L\",\"M\",\"N\",\"P\",\"Q\",\"R\",\"S\",\"T\",\"V\",\"W\",\"Y\"]\n",
    "        for a in aa_lib:\n",
    "            num1=[]\n",
    "            for i in range(15):\n",
    "                aa=[s[i] for s in seqs]\n",
    "                c=Counter(aa)\n",
    "                num1.append(c[a])\n",
    "            df[a]=num1\n",
    "        df=df.transpose()\n",
    "        df.to_csv('CoPheeKSA/PSSM/Kinase_5+sub/'+k+'_pssm.csv')"
   ]
  },
  {
   "cell_type": "code",
   "execution_count": 9,
   "id": "d62ca890",
   "metadata": {},
   "outputs": [],
   "source": [
    "lst=os.listdir('CoPheeKSA/PSSM/Kinase_5+sub/')\n",
    "os.mkdir('CoPheeKSA/PSSM/removed_test')\n",
    "for i in range(10):\n",
    "    os.mkdir('CoPheeKSA/PSSM/removed_test/'+str(i))\n",
    "ks=[i.split('_')[0] for i in lst]\n",
    "#Generate PSSM matrix from gold standard KSAs which already removed test data\n",
    "for j in range(10):\n",
    "    test=pd.read_csv('CoPheeKSA/test/test_'+str(j)+'.csv',index_col=0)\n",
    "    \n",
    "    for k in ks:\n",
    "        test_tmp=test[test.kinases==k]\n",
    "        test_sites=test_tmp.sites.tolist()\n",
    "        test_seqs=[s.split('|')[3] for s in test_sites]\n",
    "        \n",
    "        df=pd.DataFrame()\n",
    "        tmp=K_S_GPS[K_S_GPS['Gene name']==k]\n",
    "        seqs=tmp.seq_15.to_list()\n",
    "        seqs=list(set(seqs).difference(set(test_seqs)))\n",
    "        \n",
    "        if len(seqs) >= 5:\n",
    "            aa_lib = [\"A\",\"C\",\"D\",\"E\",\"F\",\"G\",\"H\",\"I\",\"K\",\"L\",\"M\",\"N\",\"P\",\"Q\",\"R\",\"S\",\"T\",\"V\",\"W\",\"Y\"]\n",
    "            for a in aa_lib:\n",
    "                num1=[]\n",
    "                for i in range(15):\n",
    "                    aa=[s[i] for s in seqs]\n",
    "                    c=Counter(aa)\n",
    "                    num1.append(c[a])\n",
    "                df[a]=num1\n",
    "            df=df.transpose()\n",
    "            df.to_csv('CoPheeKSA/PSSM/removed_test/'+str(j)+'/'+k+'_pssm.csv')"
   ]
  }
 ],
 "metadata": {
  "kernelspec": {
   "display_name": "Python 3 (ipykernel)",
   "language": "python",
   "name": "python3"
  },
  "language_info": {
   "codemirror_mode": {
    "name": "ipython",
    "version": 3
   },
   "file_extension": ".py",
   "mimetype": "text/x-python",
   "name": "python",
   "nbconvert_exporter": "python",
   "pygments_lexer": "ipython3",
   "version": "3.10.9"
  }
 },
 "nbformat": 4,
 "nbformat_minor": 5
}
